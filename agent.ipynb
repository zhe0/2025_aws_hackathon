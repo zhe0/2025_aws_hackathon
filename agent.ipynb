{
 "cells": [
  {
   "cell_type": "code",
   "execution_count": 54,
   "id": "bafd1764-06ab-492f-8825-354ff6902257",
   "metadata": {},
   "outputs": [],
   "source": [
    "import boto3\n",
    "\n",
    "def generate_audio_with_polly(text, output_path=\"output.wav\"):\n",
    "    polly = boto3.client('polly', region_name='us-west-2')\n",
    "\n",
    "    response = polly.synthesize_speech(\n",
    "        Text=text,\n",
    "        OutputFormat='pcm',\n",
    "        VoiceId='Zhiyu',  # 中文女聲\n",
    "        TextType='text',\n",
    "        LanguageCode='cmn-CN'\n",
    "    )\n",
    "\n",
    "    # 存成 WAV格式\n",
    "    with open(output_path, 'wb') as file:\n",
    "        file.write(response['AudioStream'].read())\n",
    "\n",
    "# 使用範例\n",
    "generate_audio_with_polly(\"今天天氣如何？\", \"uploads/test_audio.wav\")\n"
   ]
  },
  {
   "cell_type": "code",
   "execution_count": 59,
   "id": "ec76e136-7fad-4658-a8a3-3ed83ae415ec",
   "metadata": {},
   "outputs": [
    {
     "data": {
      "application/vnd.jupyter.widget-view+json": {
       "model_id": "c766874b51a1427d9df728d5edc9d04f",
       "version_major": 2,
       "version_minor": 0
      },
      "text/plain": [
       "FileUpload(value=(), accept='.wav', description='Upload')"
      ]
     },
     "metadata": {},
     "output_type": "display_data"
    }
   ],
   "source": [
    "import ipywidgets as widgets\n",
    "from IPython.display import display\n",
    "\n",
    "upload = widgets.FileUpload(accept='.wav', multiple=False)\n",
    "display(upload)\n"
   ]
  },
  {
   "cell_type": "code",
   "execution_count": 60,
   "id": "344680a0-76cb-4c4d-bfa9-7696e71b061b",
   "metadata": {},
   "outputs": [
    {
     "name": "stdout",
     "output_type": "stream",
     "text": [
      "已儲存錄音檔到: uploads/test_audio.wav\n"
     ]
    }
   ],
   "source": [
    "import os\n",
    "\n",
    "upload_dir = \"uploads\"\n",
    "os.makedirs(upload_dir, exist_ok=True)\n",
    "\n",
    "# 因為 upload.value 是 tuple，所以要一個一個讀\n",
    "for file_info in upload.value:\n",
    "    filename = file_info['name']\n",
    "    content = file_info['content']\n",
    "    \n",
    "    file_path = os.path.join(upload_dir, filename)\n",
    "    \n",
    "    with open(file_path, 'wb') as f:\n",
    "        f.write(content)\n",
    "    \n",
    "    print(f\"已儲存錄音檔到: {file_path}\")\n"
   ]
  },
  {
   "cell_type": "code",
   "execution_count": 61,
   "id": "0421582d-f8bb-49d9-8dc9-014d738e02a6",
   "metadata": {},
   "outputs": [
    {
     "name": "stdout",
     "output_type": "stream",
     "text": [
      "📝 辨識結果: 辨識失敗，請重新上傳音檔。\n",
      "🤖 機器人回覆: 我是工廠內部的智能語音機器人,很高興為您服務!我能夠進行聊天、查詢以及一些簡單的動作,例如走動、拿取物品、放下物品、倒液體、按按鈕等。不過,我現在只聽到「辨識失敗,請重新上傳音檔」,似乎沒有收到您想要我執行的具體命令。如果您有任何需要,請告訴我,我會儘力滿足您的要求。我會盡量用開心的語氣和大量表情符號與您互動,希望能帶給您愉快的體驗!😊❤️🤖\n"
     ]
    }
   ],
   "source": [
    "import requests\n",
    "# file_path = 'tts_outputs/audio_20250427_021833.mp3'\n",
    "files = {'file': open(file_path, 'rb')}\n",
    "\n",
    "response = requests.post(\"http://127.0.0.1:5000/upload_audio\", files=files)\n",
    "\n",
    "if response.status_code == 200:\n",
    "    result = response.json()\n",
    "    print(\"📝 辨識結果:\", result['transcribed_text'])\n",
    "    print(\"🤖 機器人回覆:\", result['answer'])\n",
    "else:\n",
    "    print(\"❗ 辨識失敗！\", response.status_code)\n"
   ]
  },
  {
   "cell_type": "code",
   "execution_count": 80,
   "id": "71c86131-64f5-44ca-8cd0-a80393531aae",
   "metadata": {},
   "outputs": [
    {
     "name": "stdin",
     "output_type": "stream",
     "text": [
      "請輸入要測試的文字： 今天天氣狀況\n"
     ]
    },
    {
     "name": "stdout",
     "output_type": "stream",
     "text": [
      "🔍 開始辨識語音檔...\n"
     ]
    },
    {
     "name": "stderr",
     "output_type": "stream",
     "text": [
      "/opt/conda/lib/python3.12/site-packages/whisper/__init__.py:150: FutureWarning: You are using `torch.load` with `weights_only=False` (the current default value), which uses the default pickle module implicitly. It is possible to construct malicious pickle data which will execute arbitrary code during unpickling (See https://github.com/pytorch/pytorch/blob/main/SECURITY.md#untrusted-models for more details). In a future release, the default value for `weights_only` will be flipped to `True`. This limits the functions that could be executed during unpickling. Arbitrary objects will no longer be allowed to be loaded via this mode unless they are explicitly allowlisted by the user via `torch.serialization.add_safe_globals`. We recommend you start setting `weights_only=True` for any use case where you don't have full control of the loaded file. Please open an issue on GitHub for any issues related to this experimental feature.\n",
      "  checkpoint = torch.load(fp, map_location=device)\n",
      "/opt/conda/lib/python3.12/site-packages/whisper/transcribe.py:126: UserWarning: FP16 is not supported on CPU; using FP32 instead\n",
      "  warnings.warn(\"FP16 is not supported on CPU; using FP32 instead\")\n"
     ]
    },
    {
     "name": "stdout",
     "output_type": "stream",
     "text": [
      "📄 本地辨識結果: 今天天氣狀況\n",
      "🚀 傳送辨識結果給伺服器...\n",
      "📄 Server接收的辨識: 今天天氣狀況\n",
      "🤖 機器人回覆: 我是一個住在工廠內部的智能語音機器人,擁有機械手臂和移動能力。根據您提供的情況,我能進行聊天、查詢和簡單的行動操作。\n",
      "\n",
      "今天天氣狀況:🌤️ 工廠裡溫度適中,很適合工作喔!感覺空氣也很清新,是個好天氣呢!😊\n"
     ]
    }
   ],
   "source": [
    "# client.py\n",
    "\n",
    "import boto3\n",
    "import requests\n",
    "import os\n",
    "from datetime import datetime\n",
    "import whisper\n",
    "\n",
    "# --- Polly TTS 部分 ---\n",
    "def generate_audio_with_polly(text, output_path=\"output.mp3\"):\n",
    "    polly = boto3.client('polly', region_name='us-west-2')\n",
    "\n",
    "    response = polly.synthesize_speech(\n",
    "        Text=text,\n",
    "        OutputFormat='mp3',  # mp3輸出\n",
    "        VoiceId='Zhiyu',\n",
    "        TextType='text',\n",
    "        LanguageCode='cmn-CN'\n",
    "    )\n",
    "\n",
    "    folder = os.path.dirname(output_path)\n",
    "    if folder and not os.path.exists(folder):\n",
    "        os.makedirs(folder)\n",
    "\n",
    "    with open(output_path, 'wb') as file:\n",
    "        file.write(response['AudioStream'].read())\n",
    "\n",
    "# --- Whisper STT 部分 ---\n",
    "def transcribe_audio_with_whisper(audio_path):\n",
    "    model = whisper.load_model(\"small\")  # 改用small，辨識更準一點\n",
    "    result = model.transcribe(\n",
    "        audio_path,\n",
    "        beam_size=5,                          # 加強搜尋\n",
    "        temperature=(0.0, 0.2, 0.4, 0.6, 0.8), # 多次推理\n",
    "        no_speech_threshold=0.2,               # 小聲也不漏\n",
    "        language='zh'                          # 強制中文\n",
    "    )\n",
    "    return result['text']\n",
    "\n",
    "# --- 主程式 ---\n",
    "\n",
    "if __name__ == \"__main__\":\n",
    "    # 1. 輸入要轉成語音的文字\n",
    "    text_input = input(\"請輸入要測試的文字：\")\n",
    "\n",
    "    # 2. 生成 TTS 錄音\n",
    "    timestamp = datetime.now().strftime(\"%Y%m%d_%H%M%S\")\n",
    "    audio_folder = \"tts_outputs\"\n",
    "    audio_filename = f\"{audio_folder}/audio_{timestamp}.mp3\"\n",
    "    generate_audio_with_polly(text_input, audio_filename)\n",
    "\n",
    "    # 3. 本地辨識 錄音檔 ➔ 文字\n",
    "    print(\"🔍 開始辨識語音檔...\")\n",
    "    transcribed_text = transcribe_audio_with_whisper(audio_filename)\n",
    "    print(\"📄 本地辨識結果:\", transcribed_text)\n",
    "\n",
    "    # 4. 送文字到 server\n",
    "    print(\"🚀 傳送辨識結果給伺服器...\")\n",
    "    response = requests.post(\n",
    "        \"http://127.0.0.1:5000/upload_audio\",\n",
    "        json={\"text\": transcribed_text}\n",
    "    )\n",
    "\n",
    "    # 5. 顯示最終結果\n",
    "    if response.status_code == 200:\n",
    "        result = response.json()\n",
    "        print(\"📄 Server接收的辨識:\", result['transcribed_text'])\n",
    "        print(\"🤖 機器人回覆:\", result['answer'])\n",
    "    else:\n",
    "        print(\"❌ 上傳或辨識失敗\", response.status_code)\n"
   ]
  },
  {
   "cell_type": "code",
   "execution_count": null,
   "id": "eb245eae-8087-4ab1-839e-39c412d12048",
   "metadata": {},
   "outputs": [],
   "source": []
  },
  {
   "cell_type": "code",
   "execution_count": null,
   "id": "17f179e5-23b7-4594-b8f2-76b31506515c",
   "metadata": {},
   "outputs": [],
   "source": []
  }
 ],
 "metadata": {
  "kernelspec": {
   "display_name": "Python 3 (ipykernel)",
   "language": "python",
   "name": "python3"
  },
  "language_info": {
   "codemirror_mode": {
    "name": "ipython",
    "version": 3
   },
   "file_extension": ".py",
   "mimetype": "text/x-python",
   "name": "python",
   "nbconvert_exporter": "python",
   "pygments_lexer": "ipython3",
   "version": "3.12.9"
  }
 },
 "nbformat": 4,
 "nbformat_minor": 5
}
